{
 "cells": [
  {
   "cell_type": "markdown",
   "metadata": {},
   "source": [
    "# CS556 Data Security and Privacy\n",
    "## Homework 3 Differential Privacy I\n",
    "### Due date & time: 11:59pm on March 4, 2025.\n",
    "\n",
    "Filling the code blocks and answer the questions."
   ]
  },
  {
   "cell_type": "code",
   "execution_count": null,
   "metadata": {},
   "outputs": [],
   "source": [
    "# Load the data and libraries\n",
    "import pandas as pd\n",
    "import numpy as np\n",
    "from scipy import stats\n",
    "import matplotlib.pyplot as plt\n",
    "plt.style.use('seaborn-whitegrid')\n",
    "# plt.style.use('seaborn-v0_8-whitegrid')\n",
    "from unittest.mock import patch\n",
    "\n",
    "\n",
    "adult = pd.read_csv('https://raw.githubusercontent.com/zealscott/CS556/main/adult_data.csv')\n",
    "adult = adult.dropna()"
   ]
  },
  {
   "cell_type": "code",
   "execution_count": 2,
   "metadata": {},
   "outputs": [
    {
     "data": {
      "text/html": [
       "<div>\n",
       "<style scoped>\n",
       "    .dataframe tbody tr th:only-of-type {\n",
       "        vertical-align: middle;\n",
       "    }\n",
       "\n",
       "    .dataframe tbody tr th {\n",
       "        vertical-align: top;\n",
       "    }\n",
       "\n",
       "    .dataframe thead th {\n",
       "        text-align: right;\n",
       "    }\n",
       "</style>\n",
       "<table border=\"1\" class=\"dataframe\">\n",
       "  <thead>\n",
       "    <tr style=\"text-align: right;\">\n",
       "      <th></th>\n",
       "      <th>Name</th>\n",
       "      <th>DOB</th>\n",
       "      <th>SSN</th>\n",
       "      <th>Zip</th>\n",
       "      <th>Age</th>\n",
       "      <th>Workclass</th>\n",
       "      <th>fnlwgt</th>\n",
       "      <th>Education</th>\n",
       "      <th>Education-Num</th>\n",
       "      <th>Marital Status</th>\n",
       "      <th>Occupation</th>\n",
       "      <th>Relationship</th>\n",
       "      <th>Race</th>\n",
       "      <th>Sex</th>\n",
       "      <th>Capital Gain</th>\n",
       "      <th>Capital Loss</th>\n",
       "      <th>Hours per week</th>\n",
       "      <th>Country</th>\n",
       "      <th>Target</th>\n",
       "    </tr>\n",
       "  </thead>\n",
       "  <tbody>\n",
       "    <tr>\n",
       "      <th>0</th>\n",
       "      <td>Karrie Trusslove</td>\n",
       "      <td>9/7/1967</td>\n",
       "      <td>732-14-6110</td>\n",
       "      <td>64152</td>\n",
       "      <td>39</td>\n",
       "      <td>State-gov</td>\n",
       "      <td>77516</td>\n",
       "      <td>Bachelors</td>\n",
       "      <td>13</td>\n",
       "      <td>Never-married</td>\n",
       "      <td>Adm-clerical</td>\n",
       "      <td>Not-in-family</td>\n",
       "      <td>White</td>\n",
       "      <td>Male</td>\n",
       "      <td>2174</td>\n",
       "      <td>0</td>\n",
       "      <td>40</td>\n",
       "      <td>United-States</td>\n",
       "      <td>&lt;=50K</td>\n",
       "    </tr>\n",
       "    <tr>\n",
       "      <th>1</th>\n",
       "      <td>Brandise Tripony</td>\n",
       "      <td>6/7/1988</td>\n",
       "      <td>150-19-2766</td>\n",
       "      <td>61523</td>\n",
       "      <td>50</td>\n",
       "      <td>Self-emp-not-inc</td>\n",
       "      <td>83311</td>\n",
       "      <td>Bachelors</td>\n",
       "      <td>13</td>\n",
       "      <td>Married-civ-spouse</td>\n",
       "      <td>Exec-managerial</td>\n",
       "      <td>Husband</td>\n",
       "      <td>White</td>\n",
       "      <td>Male</td>\n",
       "      <td>0</td>\n",
       "      <td>0</td>\n",
       "      <td>13</td>\n",
       "      <td>United-States</td>\n",
       "      <td>&lt;=50K</td>\n",
       "    </tr>\n",
       "    <tr>\n",
       "      <th>2</th>\n",
       "      <td>Brenn McNeely</td>\n",
       "      <td>8/6/1991</td>\n",
       "      <td>725-59-9860</td>\n",
       "      <td>95668</td>\n",
       "      <td>38</td>\n",
       "      <td>Private</td>\n",
       "      <td>215646</td>\n",
       "      <td>HS-grad</td>\n",
       "      <td>9</td>\n",
       "      <td>Divorced</td>\n",
       "      <td>Handlers-cleaners</td>\n",
       "      <td>Not-in-family</td>\n",
       "      <td>White</td>\n",
       "      <td>Male</td>\n",
       "      <td>0</td>\n",
       "      <td>0</td>\n",
       "      <td>40</td>\n",
       "      <td>United-States</td>\n",
       "      <td>&lt;=50K</td>\n",
       "    </tr>\n",
       "    <tr>\n",
       "      <th>3</th>\n",
       "      <td>Dorry Poter</td>\n",
       "      <td>4/6/2009</td>\n",
       "      <td>659-57-4974</td>\n",
       "      <td>25503</td>\n",
       "      <td>53</td>\n",
       "      <td>Private</td>\n",
       "      <td>234721</td>\n",
       "      <td>11th</td>\n",
       "      <td>7</td>\n",
       "      <td>Married-civ-spouse</td>\n",
       "      <td>Handlers-cleaners</td>\n",
       "      <td>Husband</td>\n",
       "      <td>Black</td>\n",
       "      <td>Male</td>\n",
       "      <td>0</td>\n",
       "      <td>0</td>\n",
       "      <td>40</td>\n",
       "      <td>United-States</td>\n",
       "      <td>&lt;=50K</td>\n",
       "    </tr>\n",
       "    <tr>\n",
       "      <th>4</th>\n",
       "      <td>Dick Honnan</td>\n",
       "      <td>9/16/1951</td>\n",
       "      <td>220-93-3811</td>\n",
       "      <td>75387</td>\n",
       "      <td>28</td>\n",
       "      <td>Private</td>\n",
       "      <td>338409</td>\n",
       "      <td>Bachelors</td>\n",
       "      <td>13</td>\n",
       "      <td>Married-civ-spouse</td>\n",
       "      <td>Prof-specialty</td>\n",
       "      <td>Wife</td>\n",
       "      <td>Black</td>\n",
       "      <td>Female</td>\n",
       "      <td>0</td>\n",
       "      <td>0</td>\n",
       "      <td>40</td>\n",
       "      <td>Cuba</td>\n",
       "      <td>&lt;=50K</td>\n",
       "    </tr>\n",
       "  </tbody>\n",
       "</table>\n",
       "</div>"
      ],
      "text/plain": [
       "               Name        DOB          SSN    Zip  Age         Workclass  \\\n",
       "0  Karrie Trusslove   9/7/1967  732-14-6110  64152   39         State-gov   \n",
       "1  Brandise Tripony   6/7/1988  150-19-2766  61523   50  Self-emp-not-inc   \n",
       "2     Brenn McNeely   8/6/1991  725-59-9860  95668   38           Private   \n",
       "3       Dorry Poter   4/6/2009  659-57-4974  25503   53           Private   \n",
       "4       Dick Honnan  9/16/1951  220-93-3811  75387   28           Private   \n",
       "\n",
       "   fnlwgt  Education  Education-Num      Marital Status         Occupation  \\\n",
       "0   77516  Bachelors             13       Never-married       Adm-clerical   \n",
       "1   83311  Bachelors             13  Married-civ-spouse    Exec-managerial   \n",
       "2  215646    HS-grad              9            Divorced  Handlers-cleaners   \n",
       "3  234721       11th              7  Married-civ-spouse  Handlers-cleaners   \n",
       "4  338409  Bachelors             13  Married-civ-spouse     Prof-specialty   \n",
       "\n",
       "    Relationship   Race     Sex  Capital Gain  Capital Loss  Hours per week  \\\n",
       "0  Not-in-family  White    Male          2174             0              40   \n",
       "1        Husband  White    Male             0             0              13   \n",
       "2  Not-in-family  White    Male             0             0              40   \n",
       "3        Husband  Black    Male             0             0              40   \n",
       "4           Wife  Black  Female             0             0              40   \n",
       "\n",
       "         Country Target  \n",
       "0  United-States  <=50K  \n",
       "1  United-States  <=50K  \n",
       "2  United-States  <=50K  \n",
       "3  United-States  <=50K  \n",
       "4           Cuba  <=50K  "
      ]
     },
     "execution_count": 2,
     "metadata": {},
     "output_type": "execute_result"
    }
   ],
   "source": [
    "# varify the downloaded adult dataset\n",
    "adult.head()"
   ]
  },
  {
   "cell_type": "markdown",
   "metadata": {},
   "source": [
    "## Question 1: Warm-up with Pandas (6 points)\n",
    "\n",
    "Pandas is a very powerful tabular data processing tool.\n",
    "\n",
    "[Query 1] (2 points) Write code to calculate how many rows in the dataset have the value \"Bachelors\" in the \"Education\" attribute, and \"Age\" at most 30?\n",
    "\n",
    "[Query 2] (2 points) Write code to generate the histogram over the \"Education\" attribute. The return should be a dictionary.\n",
    "\n",
    "[Query 3] (2 points) Write code to calculate the range of \"Age\". The return should be two integers.\n",
    "\n",
    "Hint: Some Pandas functions could be very useful, e.g. `value_counts()`."
   ]
  },
  {
   "cell_type": "code",
   "execution_count": 5,
   "metadata": {
    "deletable": false,
    "nbgrader": {
     "cell_type": "code",
     "checksum": "8f1f7e0158a3e66d86f5d3d51a7ed30f",
     "grade": false,
     "grade_id": "cell-975eb03979d78eaf",
     "locked": false,
     "schema_version": 3,
     "solution": true,
     "task": false
    }
   },
   "outputs": [
    {
     "name": "stdout",
     "output_type": "stream",
     "text": [
      "The number of rows with value \"Bachelors\" in the \"Education\" attribute, and \"Age\" at most 30 is None.\n",
      "The histogram counts of \"Education\" attribute is: None.\n",
      "The max age is -1; the min age is -1\n"
     ]
    }
   ],
   "source": [
    "def Query1():\n",
    "    # YOUR CODE HERE\n",
    "    return None\n",
    "\n",
    "def Query2():\n",
    "    # YOUR CODE HERE\n",
    "    return None\n",
    "\n",
    "def Query3():\n",
    "    # YOUR CODE HERE\n",
    "    min, max = -1, -1\n",
    "    return min, max\n",
    "\n",
    "print(f'The number of rows with value \"Bachelors\" in the \"Education\" attribute, and \"Age\" at most 30 is {Query1()}.')\n",
    "print(f'The histogram counts of \"Education\" attribute is: {Query2()}.')\n",
    "max_age, min_age = Query3()\n",
    "print(f'The max age is {max_age}; the min age is {min_age}')\n"
   ]
  },
  {
   "cell_type": "markdown",
   "metadata": {},
   "source": [
    "## Question 2: Sensitivity of queries (10 points)\n",
    "\n",
    "Answer the following questions:\n",
    "- (3 points) What is the sensitivity of `Query1`, and why?\n",
    "- (3 points) Assume the domain of \"Education\" is known beforehand. What is the sensitivity of `Query2`, and why?\n",
    "- (4 points) What is the sensitivity of \"the average age\"? Do we need additional conditions/assumptions to calculate it?"
   ]
  },
  {
   "cell_type": "markdown",
   "metadata": {
    "deletable": false,
    "nbgrader": {
     "cell_type": "markdown",
     "checksum": "a49f719e7bbff7b4331d41682658d904",
     "grade": true,
     "grade_id": "cell-fb1c7b0533f933f7",
     "locked": false,
     "points": 5,
     "schema_version": 3,
     "solution": true,
     "task": false
    }
   },
   "source": [
    "YOUR ANSWER HERE"
   ]
  },
  {
   "cell_type": "markdown",
   "metadata": {},
   "source": [
    "## Question 3: Laplace mechanism (14 points)\n",
    "\n",
    "- (4 points) Implement the `laplace_mech` to produce a differentially private answer given an input value `v`, `sensitivity` and privacy budget `epsilon`\n",
    "- (4 points) Use your implemented `laplace_mech` to generate private answers for Query1 with given $\\epsilon$.\n",
    "- (6 points) Use your implemented `laplace_mech` to generate private answers for Query2 with given $\\epsilon$."
   ]
  },
  {
   "cell_type": "code",
   "execution_count": null,
   "metadata": {
    "deletable": false,
    "nbgrader": {
     "cell_type": "code",
     "checksum": "0e27ddd40ababa8eee863cbbeb1961b2",
     "grade": false,
     "grade_id": "cell-80d3c108ba0f75d5",
     "locked": false,
     "schema_version": 3,
     "solution": true,
     "task": false
    }
   },
   "outputs": [],
   "source": [
    "def laplace_mech(v, sensitivity, epsilon):\n",
    "    # YOUR CODE HERE\n",
    "    return None\n",
    "\n",
    "def dp_query1(epsilon):\n",
    "    # YOUR CODE HERE\n",
    "    return None\n",
    "\n",
    "def dp_query2(epsilon):\n",
    "    # YOUR CODE HERE\n",
    "    return None\n",
    "\n",
    "dp_query1(0.1)"
   ]
  },
  {
   "cell_type": "code",
   "execution_count": null,
   "metadata": {
    "collapsed": false,
    "pycharm": {
     "name": "#%%\n"
    }
   },
   "outputs": [],
   "source": [
    "dp_query2(0.1)"
   ]
  },
  {
   "cell_type": "code",
   "execution_count": null,
   "metadata": {
    "deletable": false,
    "editable": false,
    "nbgrader": {
     "cell_type": "code",
     "checksum": "4f93d4f28b6a3727ed76df8885baeb8a",
     "grade": true,
     "grade_id": "cell-93eab43d27806309",
     "locked": true,
     "points": 10,
     "schema_version": 3,
     "solution": false,
     "task": false
    }
   },
   "outputs": [],
   "source": [
    "# TEST CASE for question 3\n",
    "dp_results = [dp_query1(0.1) for _ in range(100)]\n",
    "spec = [np.random.laplace(loc=1475, scale=1/0.1) for _ in range(100)]\n",
    "assert stats.wasserstein_distance(dp_results, spec) < 10"
   ]
  },
  {
   "cell_type": "code",
   "execution_count": null,
   "metadata": {
    "collapsed": false,
    "pycharm": {
     "name": "#%%\n"
    }
   },
   "outputs": [],
   "source": [
    "# compare the results of query 2 and its dp version\n",
    "\n",
    "ground_truth = Query2()\n",
    "dp_result = dp_query2(0.1)\n",
    "\n",
    "fig, (ax1, ax2) = plt.subplots(1, 2)\n",
    "ax1.bar(ground_truth.keys(), ground_truth.values(), alpha=0.3)\n",
    "ax2.bar(dp_result.keys(), dp_result.values(), alpha=0.3)\n",
    "ax1.tick_params(axis='x', labelrotation=90)\n",
    "ax2.tick_params(axis='x', labelrotation=90)\n",
    "plt.show()"
   ]
  },
  {
   "cell_type": "markdown",
   "metadata": {},
   "source": [
    "## Question 4: Analyse the utility of Laplace mechanism (20 points)\n",
    "\n",
    "Showing the relationship between the query result errors and different values privacy budget epsilon is always required to show the effectiveness or utility of a DP mechanism.\n",
    "\n",
    "Consider the (private) query 2 result as a vector. The error can be measured by L1 or L2 distance between the ground truth results and privatized results.\n",
    "\n",
    "- (2 points) implement the L1 distance function, with `ground_truth` and `privatized_result` as input and output L1 distance.\n",
    "- (2 points) implement the L2 distance function, with `ground_truth` and `privatized_result` as input and output L1 distance\n"
   ]
  },
  {
   "cell_type": "code",
   "execution_count": null,
   "metadata": {
    "collapsed": false,
    "pycharm": {
     "name": "#%%\n"
    }
   },
   "outputs": [],
   "source": [
    "def l1_distance(ground_truth, privatized_result):\n",
    "    # YOUR CODE HERE\n",
    "    return None\n",
    "\n",
    "\n",
    "def l2_distance(ground_truth, privatized_result):\n",
    "    # YOUR CODE HERE\n",
    "    return None"
   ]
  },
  {
   "cell_type": "code",
   "execution_count": null,
   "metadata": {},
   "outputs": [],
   "source": [
    "q2_result = Query2()\n",
    "keys = q2_result.keys()\n",
    "privatized_result = dp_query2(0.1)\n",
    "ground_truth = np.array([q2_result[k] for k in keys])\n",
    "privatized_result = np.array([privatized_result[k] for k in keys])\n",
    "print(f\"L1 error: {l1_distance(ground_truth, privatized_result)}\")\n",
    "print(f\"L2 error: {l2_distance(ground_truth, privatized_result)}\")"
   ]
  },
  {
   "cell_type": "markdown",
   "metadata": {
    "collapsed": false,
    "pycharm": {
     "name": "#%% md\n"
    }
   },
   "source": [
    "- (6 points) Given a list privacy budget epsilons, implement a function that repeats the `dp_query2` 100 times for each `epsilon`,\n",
    "compute the average L1 error of the privatized result, and plot it in a graph.\n",
    "\n"
   ]
  },
  {
   "cell_type": "code",
   "execution_count": null,
   "metadata": {
    "deletable": false,
    "nbgrader": {
     "cell_type": "code",
     "checksum": "e0629316da63126e9cb985ce2dd54c40",
     "grade": false,
     "grade_id": "cell-da0c198a1cf9a866",
     "locked": false,
     "schema_version": 3,
     "solution": true,
     "task": false
    }
   },
   "outputs": [],
   "source": [
    "epsilons = [0.1, 0.2, 0.4, 0.6, 0.8, 1, 1.2, 1.4, 1.6, 1.8, 2.0]\n",
    "keys = ['HS-grad', 'Some-college', 'Bachelors', 'Masters', 'Assoc-voc', '11th', 'Assoc-acdm', '10th', '7th-8th', 'Prof-school', '9th', '12th', 'Doctorate', '5th-6th', '1st-4th', 'Preschool']\n",
    "\n",
    "def analyse_dp_q2_l1_error():\n",
    "    # YOUR CODE HERE\n",
    "    # plot a figure with epsilons as x axis and L1 error as y axis\n",
    "    raise NotImplementedError\n",
    "\n",
    "analyse_dp_q2_l1_error()"
   ]
  },
  {
   "cell_type": "markdown",
   "metadata": {
    "collapsed": false,
    "pycharm": {
     "name": "#%% md\n"
    }
   },
   "source": [
    "- (2 points) Given a list privacy budget epsilons, implement a function that repeats the `dp_query2` 100 times for each `epsilon`,\n",
    "compute the average L2 error of the privatized result, and plot it in a graph.\n",
    "\n"
   ]
  },
  {
   "cell_type": "code",
   "execution_count": null,
   "metadata": {
    "deletable": false,
    "editable": false,
    "nbgrader": {
     "cell_type": "code",
     "checksum": "3361b8760594145c039d41479c981de4",
     "grade": true,
     "grade_id": "cell-eda6bc27840a9067",
     "locked": true,
     "points": 10,
     "schema_version": 3,
     "solution": false,
     "task": false
    }
   },
   "outputs": [],
   "source": [
    "def analyse_dp_q2_l2_error():\n",
    "    # YOUR CODE HERE\n",
    "    # plot a figure with epsilons as x axis and L1 error as y axis\n",
    "    raise NotImplementedError\n",
    "\n",
    "analyse_dp_q2_l2_error()"
   ]
  },
  {
   "cell_type": "markdown",
   "metadata": {
    "collapsed": false,
    "pycharm": {
     "name": "#%% md\n"
    }
   },
   "source": [
    "- (8 points) Compare the result of L1 errors and L2 errors. Describe the relations between the errors and different `epsilon` values.\n",
    "Which type of error (L1 or L2) can better align with the Laplace mechanism?"
   ]
  },
  {
   "cell_type": "markdown",
   "metadata": {
    "collapsed": false,
    "pycharm": {
     "name": "#%% md\n"
    }
   },
   "source": [
    "YOUR ANSWER HERE"
   ]
  },
  {
   "cell_type": "markdown",
   "metadata": {},
   "source": [
    "## Question 6: Clipping (20 points)\n",
    "It is very common that some query's sensitivity is not bounded or too large.\n",
    "To handle such case, clipping is usually a solution.\n",
    "By clipping, we mean that given a pair of thresholds $(\\theta_{\\min}, \\theta_{\\max})$,\n",
    "we pre-processing the dataset so that $\\hat{v} = \\max \\{ \\min \\{v, \\theta_{\\max} \\}, \\theta_{\\min}\\}$.\n",
    "\n",
    "- (2 points) Write Query 4 to calculate the average of `Capital Gain`\n"
   ]
  },
  {
   "cell_type": "code",
   "execution_count": null,
   "metadata": {
    "collapsed": false,
    "pycharm": {
     "name": "#%%\n"
    }
   },
   "outputs": [],
   "source": [
    "def Query4():\n",
    "    # YOUR CODE HERE\n",
    "    return None\n",
    "\n",
    "Query4()"
   ]
  },
  {
   "cell_type": "markdown",
   "metadata": {
    "deletable": false,
    "nbgrader": {
     "cell_type": "markdown",
     "checksum": "ce2bae13a992d9010fab785450105fd6",
     "grade": true,
     "grade_id": "cell-075013c43cc4cc1d",
     "locked": false,
     "points": 10,
     "schema_version": 3,
     "solution": true,
     "task": false
    },
    "pycharm": {
     "name": "#%% md\n"
    }
   },
   "source": [
    "- (2 points) We can assume that capital gain should be non-negative numbers. Implement the function that returns\n",
    "differential private answer to Query 4 given $\\theta_{\\max}$ and `epsilon`.\n"
   ]
  },
  {
   "cell_type": "code",
   "execution_count": null,
   "metadata": {
    "pycharm": {
     "name": "#%%\n"
    }
   },
   "outputs": [],
   "source": [
    "def dp_query4(theta, epsilon):\n",
    "    # YOUR CODE HERE\n",
    "    return None\n",
    "\n",
    "dp_query4(10000, 1)"
   ]
  },
  {
   "cell_type": "markdown",
   "metadata": {
    "pycharm": {
     "name": "#%% md\n"
    }
   },
   "source": [
    "- (8 points) For private Qeury 4, empirically find the best choice $\\theta_{\\max}$ from the following set of values `[100, 500, 1000, 5000, 10000, 50000, 100000, 200000, 500000]` given $\\epsilon = 1$."
   ]
  },
  {
   "cell_type": "code",
   "execution_count": null,
   "metadata": {
    "pycharm": {
     "name": "#%%\n"
    }
   },
   "outputs": [],
   "source": [
    "thetas = [100, 500, 1000, 5000, 10000, 50000, 100000, 200000, 500000]\n",
    "eps = 1\n",
    "\n",
    "def find_opt_theta():\n",
    "    # YOUR CODE HERE\n",
    "    opt = -1\n",
    "    return opt\n",
    "\n",
    "print(f\"The optimal threshold is {find_opt_theta()}\")"
   ]
  },
  {
   "cell_type": "markdown",
   "metadata": {
    "collapsed": false,
    "pycharm": {
     "name": "#%% md\n"
    }
   },
   "source": [
    "- (6 points) Summary the finding of different threshold values, and explain why."
   ]
  },
  {
   "cell_type": "markdown",
   "metadata": {
    "collapsed": false
   },
   "source": [
    "YOUR ANSWER HERE"
   ]
  },
  {
   "cell_type": "markdown",
   "metadata": {
    "collapsed": false
   },
   "source": [
    "## Question 5: Noisy-min (30 points)\n",
    "- (5 points) Implement a function to return the number of records having `Age` greater than 50 within different education groups.\n",
    "(Hint: pandas `groupby` function can make it easier)\n"
   ]
  },
  {
   "cell_type": "code",
   "execution_count": null,
   "metadata": {
    "collapsed": false,
    "pycharm": {
     "name": "#%%\n"
    }
   },
   "outputs": [],
   "source": [
    "def Query5():\n",
    "    # YOUR CODE HERE\n",
    "    return None\n",
    "\n",
    "Query5()"
   ]
  },
  {
   "cell_type": "markdown",
   "metadata": {
    "collapsed": false,
    "pycharm": {
     "name": "#%% md\n"
    }
   },
   "source": [
    " - (10 points) Implement a differential private function to return the `Education` group with the smallest number of records with `Age` > 50.\n",
    "Clip the `Age` to be in [0, 100]. Also, explain how to set the sensitivity.\n"
   ]
  },
  {
   "cell_type": "code",
   "execution_count": null,
   "metadata": {
    "collapsed": false,
    "pycharm": {
     "name": "#%%\n"
    }
   },
   "outputs": [],
   "source": [
    "def dp_query5(epsilon):\n",
    "    # YOUR CODE HERE\n",
    "    return None\n",
    "\n",
    "print(f\"The groun with smallest number of older than 50 is {dp_query5(epsilon=1)}\")"
   ]
  },
  {
   "cell_type": "markdown",
   "metadata": {
    "collapsed": false,
    "pycharm": {
     "name": "#%% md\n"
    }
   },
   "source": [
    "- (15 points) Is it still satisfying DP if the function also returns the randomized count of the Education group? Why?"
   ]
  }
 ],
 "metadata": {
  "kernelspec": {
   "display_name": "Python 3 (ipykernel)",
   "language": "python",
   "name": "python3"
  },
  "language_info": {
   "codemirror_mode": {
    "name": "ipython",
    "version": 3
   },
   "file_extension": ".py",
   "mimetype": "text/x-python",
   "name": "python",
   "nbconvert_exporter": "python",
   "pygments_lexer": "ipython3",
   "version": "3.8.11"
  }
 },
 "nbformat": 4,
 "nbformat_minor": 4
}
