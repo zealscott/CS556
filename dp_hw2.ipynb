{
 "cells": [
  {
   "cell_type": "markdown",
   "metadata": {
    "collapsed": true,
    "pycharm": {
     "name": "#%% md\n"
    }
   },
   "source": [
    "# CS556 Data Security and Privacy\n",
    "## Homework 4 Differential Privacy II\n",
    "Filling the code blocks and answer the questions."
   ]
  },
  {
   "cell_type": "code",
   "execution_count": null,
   "metadata": {
    "collapsed": false,
    "pycharm": {
     "name": "#%%\n"
    }
   },
   "outputs": [],
   "source": [
    "# Load the data and libraries\n",
    "import pandas as pd\n",
    "import numpy as np\n",
    "from scipy import stats\n",
    "import matplotlib.pyplot as plt\n",
    "plt.style.use('seaborn-whitegrid')\n",
    "# plt.style.use('seaborn-v0_8-whitegrid')\n",
    "from unittest.mock import patch\n",
    "\n",
    "\n",
    "adult = pd.read_csv('https://raw.githubusercontent.com/zealscott/CS556/main/adult_with_pii.csv')\n",
    "adult = adult.dropna()"
   ]
  },
  {
   "cell_type": "code",
   "execution_count": 2,
   "metadata": {
    "collapsed": false,
    "pycharm": {
     "name": "#%%\n"
    }
   },
   "outputs": [
    {
     "data": {
      "text/html": [
       "<div>\n",
       "<style scoped>\n",
       "    .dataframe tbody tr th:only-of-type {\n",
       "        vertical-align: middle;\n",
       "    }\n",
       "\n",
       "    .dataframe tbody tr th {\n",
       "        vertical-align: top;\n",
       "    }\n",
       "\n",
       "    .dataframe thead th {\n",
       "        text-align: right;\n",
       "    }\n",
       "</style>\n",
       "<table border=\"1\" class=\"dataframe\">\n",
       "  <thead>\n",
       "    <tr style=\"text-align: right;\">\n",
       "      <th></th>\n",
       "      <th>Name</th>\n",
       "      <th>DOB</th>\n",
       "      <th>SSN</th>\n",
       "      <th>Zip</th>\n",
       "      <th>Age</th>\n",
       "      <th>Workclass</th>\n",
       "      <th>fnlwgt</th>\n",
       "      <th>Education</th>\n",
       "      <th>Education-Num</th>\n",
       "      <th>Marital Status</th>\n",
       "      <th>Occupation</th>\n",
       "      <th>Relationship</th>\n",
       "      <th>Race</th>\n",
       "      <th>Sex</th>\n",
       "      <th>Capital Gain</th>\n",
       "      <th>Capital Loss</th>\n",
       "      <th>Hours per week</th>\n",
       "      <th>Country</th>\n",
       "      <th>Target</th>\n",
       "    </tr>\n",
       "  </thead>\n",
       "  <tbody>\n",
       "    <tr>\n",
       "      <th>0</th>\n",
       "      <td>Karrie Trusslove</td>\n",
       "      <td>9/7/1967</td>\n",
       "      <td>732-14-6110</td>\n",
       "      <td>64152</td>\n",
       "      <td>39</td>\n",
       "      <td>State-gov</td>\n",
       "      <td>77516</td>\n",
       "      <td>Bachelors</td>\n",
       "      <td>13</td>\n",
       "      <td>Never-married</td>\n",
       "      <td>Adm-clerical</td>\n",
       "      <td>Not-in-family</td>\n",
       "      <td>White</td>\n",
       "      <td>Male</td>\n",
       "      <td>2174</td>\n",
       "      <td>0</td>\n",
       "      <td>40</td>\n",
       "      <td>United-States</td>\n",
       "      <td>&lt;=50K</td>\n",
       "    </tr>\n",
       "    <tr>\n",
       "      <th>1</th>\n",
       "      <td>Brandise Tripony</td>\n",
       "      <td>6/7/1988</td>\n",
       "      <td>150-19-2766</td>\n",
       "      <td>61523</td>\n",
       "      <td>50</td>\n",
       "      <td>Self-emp-not-inc</td>\n",
       "      <td>83311</td>\n",
       "      <td>Bachelors</td>\n",
       "      <td>13</td>\n",
       "      <td>Married-civ-spouse</td>\n",
       "      <td>Exec-managerial</td>\n",
       "      <td>Husband</td>\n",
       "      <td>White</td>\n",
       "      <td>Male</td>\n",
       "      <td>0</td>\n",
       "      <td>0</td>\n",
       "      <td>13</td>\n",
       "      <td>United-States</td>\n",
       "      <td>&lt;=50K</td>\n",
       "    </tr>\n",
       "    <tr>\n",
       "      <th>2</th>\n",
       "      <td>Brenn McNeely</td>\n",
       "      <td>8/6/1991</td>\n",
       "      <td>725-59-9860</td>\n",
       "      <td>95668</td>\n",
       "      <td>38</td>\n",
       "      <td>Private</td>\n",
       "      <td>215646</td>\n",
       "      <td>HS-grad</td>\n",
       "      <td>9</td>\n",
       "      <td>Divorced</td>\n",
       "      <td>Handlers-cleaners</td>\n",
       "      <td>Not-in-family</td>\n",
       "      <td>White</td>\n",
       "      <td>Male</td>\n",
       "      <td>0</td>\n",
       "      <td>0</td>\n",
       "      <td>40</td>\n",
       "      <td>United-States</td>\n",
       "      <td>&lt;=50K</td>\n",
       "    </tr>\n",
       "    <tr>\n",
       "      <th>3</th>\n",
       "      <td>Dorry Poter</td>\n",
       "      <td>4/6/2009</td>\n",
       "      <td>659-57-4974</td>\n",
       "      <td>25503</td>\n",
       "      <td>53</td>\n",
       "      <td>Private</td>\n",
       "      <td>234721</td>\n",
       "      <td>11th</td>\n",
       "      <td>7</td>\n",
       "      <td>Married-civ-spouse</td>\n",
       "      <td>Handlers-cleaners</td>\n",
       "      <td>Husband</td>\n",
       "      <td>Black</td>\n",
       "      <td>Male</td>\n",
       "      <td>0</td>\n",
       "      <td>0</td>\n",
       "      <td>40</td>\n",
       "      <td>United-States</td>\n",
       "      <td>&lt;=50K</td>\n",
       "    </tr>\n",
       "    <tr>\n",
       "      <th>4</th>\n",
       "      <td>Dick Honnan</td>\n",
       "      <td>9/16/1951</td>\n",
       "      <td>220-93-3811</td>\n",
       "      <td>75387</td>\n",
       "      <td>28</td>\n",
       "      <td>Private</td>\n",
       "      <td>338409</td>\n",
       "      <td>Bachelors</td>\n",
       "      <td>13</td>\n",
       "      <td>Married-civ-spouse</td>\n",
       "      <td>Prof-specialty</td>\n",
       "      <td>Wife</td>\n",
       "      <td>Black</td>\n",
       "      <td>Female</td>\n",
       "      <td>0</td>\n",
       "      <td>0</td>\n",
       "      <td>40</td>\n",
       "      <td>Cuba</td>\n",
       "      <td>&lt;=50K</td>\n",
       "    </tr>\n",
       "  </tbody>\n",
       "</table>\n",
       "</div>"
      ],
      "text/plain": [
       "               Name        DOB          SSN    Zip  Age         Workclass  \\\n",
       "0  Karrie Trusslove   9/7/1967  732-14-6110  64152   39         State-gov   \n",
       "1  Brandise Tripony   6/7/1988  150-19-2766  61523   50  Self-emp-not-inc   \n",
       "2     Brenn McNeely   8/6/1991  725-59-9860  95668   38           Private   \n",
       "3       Dorry Poter   4/6/2009  659-57-4974  25503   53           Private   \n",
       "4       Dick Honnan  9/16/1951  220-93-3811  75387   28           Private   \n",
       "\n",
       "   fnlwgt  Education  Education-Num      Marital Status         Occupation  \\\n",
       "0   77516  Bachelors             13       Never-married       Adm-clerical   \n",
       "1   83311  Bachelors             13  Married-civ-spouse    Exec-managerial   \n",
       "2  215646    HS-grad              9            Divorced  Handlers-cleaners   \n",
       "3  234721       11th              7  Married-civ-spouse  Handlers-cleaners   \n",
       "4  338409  Bachelors             13  Married-civ-spouse     Prof-specialty   \n",
       "\n",
       "    Relationship   Race     Sex  Capital Gain  Capital Loss  Hours per week  \\\n",
       "0  Not-in-family  White    Male          2174             0              40   \n",
       "1        Husband  White    Male             0             0              13   \n",
       "2  Not-in-family  White    Male             0             0              40   \n",
       "3        Husband  Black    Male             0             0              40   \n",
       "4           Wife  Black  Female             0             0              40   \n",
       "\n",
       "         Country Target  \n",
       "0  United-States  <=50K  \n",
       "1  United-States  <=50K  \n",
       "2  United-States  <=50K  \n",
       "3  United-States  <=50K  \n",
       "4           Cuba  <=50K  "
      ]
     },
     "execution_count": 2,
     "metadata": {},
     "output_type": "execute_result"
    }
   ],
   "source": [
    "# varify the downloaded adult dataset\n",
    "adult.head()"
   ]
  },
  {
   "cell_type": "markdown",
   "metadata": {
    "collapsed": false,
    "pycharm": {
     "name": "#%% md\n"
    }
   },
   "source": [
    "## Question 1: Exponential mechanism (20 points)\n",
    "- (5 points) If one wants to get the `Education` group with the maximum number of records with `Age` > 50 with exponential mechanism,\n",
    "how to design the scores? What is the sensitivity of your score?\n",
    "\n",
    "    For consistency, we can denote the score of output $r$ based on dataset $X$ as $u(X, r)$"
   ]
  },
  {
   "cell_type": "markdown",
   "metadata": {
    "collapsed": false,
    "pycharm": {
     "name": "#%% md\n"
    }
   },
   "source": [
    "YOUR ANSWER HERE"
   ]
  },
  {
   "cell_type": "markdown",
   "metadata": {
    "collapsed": false,
    "pycharm": {
     "name": "#%% md\n"
    }
   },
   "source": [
    "- (10 points) Implement a differential private function based on basic exponential mechanism to return the `Education` group with the maximum number of records with `Age` > 50.\n",
    "Clip the `Age` to be in [0, 100]. Also, explain how to set the sensitivity.\n",
    "\n",
    "    *Recall that the probability of one output is selected is proportional to $\\exp(\\frac{\\epsilon u(X, r)}{2\\Delta u}  )$"
   ]
  },
  {
   "cell_type": "code",
   "execution_count": 3,
   "metadata": {
    "collapsed": false,
    "pycharm": {
     "name": "#%%\n"
    }
   },
   "outputs": [
    {
     "name": "stdout",
     "output_type": "stream",
     "text": [
      "The groun with smallest number of older than 50 is None\n"
     ]
    }
   ],
   "source": [
    "def basic_exponential(epsilon):\n",
    "    # YOUR CODE HERE\n",
    "    # ANSWER\n",
    "\n",
    "    return None\n",
    "\n",
    "print(f\"The groun with smallest number of older than 50 is {basic_exponential(epsilon=1)}\")"
   ]
  },
  {
   "cell_type": "markdown",
   "metadata": {
    "collapsed": false,
    "pycharm": {
     "name": "#%% md\n"
    }
   },
   "source": [
    "- (5 points) Can we improve the basic exponential mechanism for the above query? Explain  1. how to improve if your answer is yes 1. why you can make the changes for this query.\n",
    "\n",
    "    Hint: Some reference for this questions can be\n",
    "    1. Section 3.4 of \"The Algorithmic Foundations of Differential Privacy\": https://www.cis.upenn.edu/~aaroth/Papers/privacybook.pdf\n",
    "    2. Section 2 of \"Understanding the Sparse Vector Technique for Differential Privacy\": http://www.vldb.org/pvldb/vol10/p637-lyu.pdf"
   ]
  },
  {
   "cell_type": "markdown",
   "metadata": {
    "collapsed": false,
    "pycharm": {
     "name": "#%% md\n"
    }
   },
   "source": [
    "YOUR ANSWER HERE"
   ]
  },
  {
   "cell_type": "markdown",
   "metadata": {
    "collapsed": false,
    "pycharm": {
     "name": "#%% md\n"
    }
   },
   "source": [
    "## Question 2: DP with machine learning - Gaussian mechanism and gradient perturbation (40 points)\n",
    "\n",
    "In this question use regularized logistic regression (LR) to predict the `Target` column, which indicate whether the individual has income greate than 50k.\n",
    "\n",
    "The dataset is pre-processed and loaded by the code below.\n",
    "For classification, we take the `Target` value as label $y$, where $y=-1$ if <=50k, otherwise it is +1.\n",
    "Denote the dataset with $n$ samples as $X = [x_1, \\ldots, x_n]$ and each $x_i \\in \\mathbb{R}^d$.\n",
    "With logistic regression, we represent the probability of label $y$ being either $-1$ or $1$ given parameter vector $w$ and features $x$ as\n",
    "$\\mathbb{P}(y|w, x) = \\frac{1}{1 + e^{-y w^T x}}$, where $w^T x$ is the inner product of $w$ and $x$.\n",
    "\n",
    "The training process is to maximize the (log)likelihood of obtaining such dataset with $w$.\n",
    "$L(X) = -\\log(\\prod_{i=1}^{n}\\mathbb{P}(y_i|w, x_i)) = \\frac{1}{n}\\sum_{i=1}^{n}\n",
    "\\log(1 + e^{-y w^T x} ) $.\n",
    "It is usually simplified by defining $\\ell(w; x, y) = \\log(1 + e^{-y w^T x} ) $\n",
    "\n",
    "(Notice that you may see another kind of loss function for LR, it is because their dataset lables are in $\\{0, 1\\}$ while we use $\\{-1, 1\\}$ here.)\n",
    "\n",
    "We are going to use gradient descent as the optimization algorithm to train $w$.\n",
    "It is not hard to see that the gradient of a sample is\n",
    "$\\frac{\\partial \\ell(w; x, y)}{\\partial w} = \\frac{-y x}{1 + e^{w^T x}}$.\n"
   ]
  },
  {
   "cell_type": "code",
   "execution_count": null,
   "metadata": {
    "collapsed": false,
    "pycharm": {
     "name": "#%%\n"
    }
   },
   "outputs": [],
   "source": [
    "# Load data files\n",
    "import numpy as np\n",
    "import urllib.request\n",
    "import io\n",
    "\n",
    "\n",
    "url_x = 'https://raw.githubusercontent.com/zealscott/CS556/main/adult_processed_x.npy'\n",
    "url_y = 'https://raw.githubusercontent.com/zealscott/CS556/main/adult_processed_y.npy'\n",
    "\n",
    "with urllib.request.urlopen(url_x) as url:\n",
    "    f = io.BytesIO(url.read())\n",
    "X = np.load(f)\n",
    "\n",
    "with urllib.request.urlopen(url_y) as url:\n",
    "    f = io.BytesIO(url.read())\n",
    "y = np.load(f)"
   ]
  },
  {
   "cell_type": "code",
   "execution_count": 5,
   "metadata": {
    "collapsed": false,
    "pycharm": {
     "name": "#%%\n"
    }
   },
   "outputs": [
    {
     "name": "stdout",
     "output_type": "stream",
     "text": [
      "Train and test set sizes: 36176 9044\n"
     ]
    }
   ],
   "source": [
    "# Split data into training and test sets\n",
    "training_size = int(X.shape[0] * 0.8)\n",
    "\n",
    "X_train = X[:training_size]\n",
    "X_test = X[training_size:]\n",
    "\n",
    "y_train = y[:training_size]\n",
    "y_test = y[training_size:]\n",
    "\n",
    "print('Train and test set sizes:', len(y_train), len(y_test))"
   ]
  },
  {
   "cell_type": "code",
   "execution_count": 6,
   "metadata": {
    "collapsed": false,
    "pycharm": {
     "name": "#%%\n"
    }
   },
   "outputs": [],
   "source": [
    "# Some useful functions\n",
    "\n",
    "def loss(w, xi, yi):\n",
    "    exponent = - yi * (xi.dot(w))\n",
    "    return np.log(1 + np.exp(exponent))\n",
    "\n",
    "\n",
    "def gradient(w, xi, yi):\n",
    "    exponent = yi * (xi.dot(w))\n",
    "    return - (yi*xi) / (1+np.exp(exponent))\n",
    "\n",
    "\n",
    "def predict(xi, w, bias=0):\n",
    "    label = np.sign(xi @ w + bias)\n",
    "    return label\n",
    "\n",
    "\n",
    "def test_accuracy(w):\n",
    "    return np.sum(predict(X_test, w) == y_test)/X_test.shape[0]\n",
    "\n",
    "def train_accuracy(w):\n",
    "    return np.sum(predict(X_train, w) == y_train)/X_train.shape[0]\n"
   ]
  },
  {
   "cell_type": "markdown",
   "metadata": {
    "collapsed": false,
    "pycharm": {
     "name": "#%% md\n"
    }
   },
   "source": [
    "- (5 points) First, let's implement a clean training of logistic regrssion with the training dataset (`X_train` and `y_train`).\n",
    "Fill in the missing part below and run the plotting code."
   ]
  },
  {
   "cell_type": "code",
   "execution_count": 7,
   "metadata": {
    "collapsed": false,
    "pycharm": {
     "name": "#%%\n"
    }
   },
   "outputs": [],
   "source": [
    "def gradient_descent(iterations, X_train, y_train):\n",
    "    w = np.zeros(X_train.shape[1])\n",
    "    # Strictly speaking, we need to apply Laplace mechanism to estimate the total number of users in dataset\n",
    "    n = X_train.shape[0]\n",
    "    # The following two are used to keep track of the training information\n",
    "    itr_losses = []\n",
    "    train_accuracies = []\n",
    "\n",
    "\n",
    "    for i in range(iterations):\n",
    "        cur_loss = np.average([loss(w, xi, yi) for xi, yi in zip(X_train,y_train)])\n",
    "        cur_acc = train_accuracy(w)\n",
    "        itr_losses.append(cur_loss)\n",
    "        train_accuracies.append(cur_acc)\n",
    "        if i % 10 == 0:\n",
    "            print(f\"training iteration: {i}\")\n",
    "\n",
    "        # YOUR CODE HERE\n",
    "\n",
    "    return w, itr_losses, train_accuracies\n",
    "\n"
   ]
  },
  {
   "cell_type": "code",
   "execution_count": 8,
   "metadata": {
    "collapsed": false,
    "pycharm": {
     "name": "#%%\n"
    }
   },
   "outputs": [
    {
     "name": "stdout",
     "output_type": "stream",
     "text": [
      "training iteration: 0\n",
      "training iteration: 10\n",
      "training iteration: 20\n",
      "training iteration: 30\n",
      "training iteration: 40\n"
     ]
    },
    {
     "data": {
      "image/png": "[encoded data removed]",
      "text/plain": [
       "<Figure size 432x288 with 2 Axes>"
      ]
     },
     "metadata": {},
     "output_type": "display_data"
    }
   ],
   "source": [
    "# use your function to train\n",
    "iterations = 50\n",
    "w, itr_losses, train_accuracies = gradient_descent(iterations, X_train, y_train)\n",
    "fig, (ax1, ax2) = plt.subplots(1, 2)\n",
    "ax1.plot(np.arange(iterations), itr_losses, label='training loss' )\n",
    "ax2.plot(np.arange(iterations), train_accuracies, label='training accuracy')\n",
    "plt.show()"
   ]
  },
  {
   "cell_type": "markdown",
   "metadata": {
    "collapsed": false,
    "pycharm": {
     "name": "#%% md\n"
    }
   },
   "source": [
    "* (5 points)  It is easy to see that the gradient w.r.t each sample is not bounded in the training iterations,\n",
    "so the sensitivity of DP for the gradient decent is not bounded as well.\n",
    "To encounter such problem, a typical solution is called \"gradient clipping\".\n",
    "We need to clip the gradient w.r.t EACH SAMPLE (NOT the average gradient!) so that its L2 norm is at most $\\theta$.\n",
    "Implement your `gradient_clipping` function below."
   ]
  },
  {
   "cell_type": "code",
   "execution_count": 9,
   "metadata": {
    "collapsed": false,
    "pycharm": {
     "name": "#%%\n"
    }
   },
   "outputs": [],
   "source": [
    "def gradient_clipping(raw_gradient, theta):\n",
    "    # YOUR CODE HERE\n",
    "\n",
    "    return None\n"
   ]
  },
  {
   "cell_type": "markdown",
   "metadata": {
    "collapsed": false,
    "pycharm": {
     "name": "#%% md\n"
    }
   },
   "source": [
    "* (5 points)  Implement the Gaussian mechanism with input parameters consist of a vector, sensitivity, $\\epsilon$, $\\delta$.\n",
    "The return should the vector with appropriated additive Gaussian noise."
   ]
  },
  {
   "cell_type": "code",
   "execution_count": 10,
   "metadata": {
    "collapsed": false,
    "pycharm": {
     "name": "#%%\n"
    }
   },
   "outputs": [],
   "source": [
    "def gaussian_mech_vec(v, sensitivity, epsilon, delta):\n",
    "    # YOUR CODE HERE\n",
    "    return None\n"
   ]
  },
  {
   "cell_type": "markdown",
   "metadata": {
    "collapsed": false,
    "pycharm": {
     "name": "#%% md\n"
    }
   },
   "source": [
    "* (10 points) Implement your private LR training function below.\n",
    "    - [Naive composition of privacy budgets] We consider only the naive sequntial composition of privacy budget here.\n",
    "    Namely, if there are two mechanisms and $M_1$ is ($\\epsilon_1, \\delta_1$)-private and $M_2$ is ($\\epsilon_2, \\delta_2$)-private,\n",
    "    then the privacy loss of $M_2(M_1(X, aux_1), X, aux_2)$ is ($\\epsilon_1 + \\epsilon_2, \\delta_1 + \\delta_2$)-private.\n",
    "    The $aux$ denotes any auxiliary input.\n",
    "    So if you decide there is $T$ iterations, each iteration should satisfy ($\\frac{\\epsilon}{T}, \\frac{\\delta}{T}$)-DP.\n",
    "    - [Decrease of step sizes] Different from the gradient descent above, the injected noise to the gradient can prevent $w$ to converge.\n",
    "    A solution is the step size decreases as the number of iteration increases, similar as Stochastic Gradient Descent (SGD).\n",
    "    You can let the step size decrease linearly in your implementation."
   ]
  },
  {
   "cell_type": "code",
   "execution_count": 11,
   "metadata": {
    "collapsed": false,
    "pycharm": {
     "name": "#%%\n"
    }
   },
   "outputs": [],
   "source": [
    "def dp_gradient_descent(iterations, X_train, y_train, epsilon, delta, theta):\n",
    "    w = np.zeros(X_train.shape[1])\n",
    "    # Strictly speaking, we need to apply Laplace mechanism to estimate the total number of users in dataset\n",
    "    n = X_train.shape[0]\n",
    "    # The following two are used to keep track of the training information\n",
    "    itr_losses = []\n",
    "    train_accuracies = []\n",
    "    step_size = 0.1\n",
    "\n",
    "    for i in range(iterations):\n",
    "        cur_loss = np.average([loss(w, xi, yi) for xi, yi in zip(X_train,y_train)])\n",
    "        cur_acc = train_accuracy(w)\n",
    "        itr_losses.append(cur_loss)\n",
    "        train_accuracies.append(cur_acc)\n",
    "        if i % 10 == 0:\n",
    "            print(f\"training iteration: {i}\")\n",
    "\n",
    "        # YOUR CODE HERE\n",
    "\n",
    "\n",
    "    return w, itr_losses, train_accuracies"
   ]
  },
  {
   "cell_type": "code",
   "execution_count": 12,
   "metadata": {
    "collapsed": false,
    "pycharm": {
     "name": "#%%\n"
    }
   },
   "outputs": [
    {
     "name": "stdout",
     "output_type": "stream",
     "text": [
      "training iteration: 0\n"
     ]
    },
    {
     "data": {
      "image/png": "[encoded data removed]",
      "text/plain": [
       "<Figure size 432x288 with 2 Axes>"
      ]
     },
     "metadata": {},
     "output_type": "display_data"
    }
   ],
   "source": [
    "# use your private function to train\n",
    "iterations = 10\n",
    "epsilon = 2\n",
    "delta = 1e-4\n",
    "theta = 1\n",
    "w, itr_losses, train_accuracies = dp_gradient_descent(iterations, X_train, y_train, epsilon, delta, theta)\n",
    "fig, (ax1, ax2) = plt.subplots(1, 2)\n",
    "ax1.plot(np.arange(iterations), itr_losses, label='training loss' )\n",
    "ax2.plot(np.arange(iterations), train_accuracies, label='training accuracy')\n",
    "plt.show()\n"
   ]
  },
  {
   "cell_type": "markdown",
   "metadata": {
    "collapsed": false,
    "pycharm": {
     "name": "#%% md\n"
    }
   },
   "source": [
    "* (15 points) Given fixed $\\epsilon$ and $\\delta$, the tunable parameters in the training are clipping threshold $\\theta$ and the number of iterations iteration.\n",
    "    - Plot the TESTING accuracies (use the testing dataset) of different thresholds listed below, and discuss the potential trade-offs based on your observation.\n",
    "    - Plot the TESTING accuracies (use the testing dataset) of different thresholds listed below, and discuss the potential trade-offs based on your observation."
   ]
  },
  {
   "cell_type": "code",
   "execution_count": 13,
   "metadata": {
    "collapsed": false,
    "pycharm": {
     "name": "#%%\n"
    }
   },
   "outputs": [],
   "source": [
    "thetas = [0.1, 0.5, 1.0, 1.5, 2.0, 2.5, 3.0]\n",
    "possible_T = [1, 2, 5, 10, 15, 20]\n",
    "default_iterations = 10\n",
    "default_theta = 1\n",
    "epsilon = 2\n",
    "delta = 1e-4\n",
    "\n",
    "# YOUR CODE HERE\n",
    "# train the LR with different parameters\n",
    "# fig, (ax1, ax2) = plt.subplots(1, 2)\n",
    "# ax1.plot(thetas, thetas2accuracies, label='training loss' )\n",
    "# ax2.plot(possible_T, T2accuracies, label='training accuracy')\n",
    "# plt.legend()\n",
    "# plt.show()"
   ]
  },
  {
   "cell_type": "code",
   "execution_count": 13,
   "metadata": {
    "collapsed": false,
    "pycharm": {
     "name": "#%%\n"
    }
   },
   "outputs": [],
   "source": []
  },
  {
   "cell_type": "markdown",
   "metadata": {
    "collapsed": false
   },
   "source": [
    "## Question 3: Local differential privacy (LDP) (40 points)\n",
    "\n",
    "We can simulate the local differential privacy mechanisms with the adult dataset.\n",
    "The LDP protocols provides strictly stronger privacy protection for user data,\n",
    "but usually suffers decline in terms of utility.\n",
    "\n",
    "* (10 points)\n",
    "The most basic LDP mechanism maybe the Generalized Random Response (GRR),\n",
    "which can help data aggregator to estimate the frequencies of categorical values.\n",
    "Assume that the input domain is $\\mathcal{D}$ and its size $|\\mathcal{D}| = d$.\n",
    "\n",
    "    - (Local randomization) For each user's input, $v$, GRR randomize the input value in the following way\n",
    "\n",
    "    $\n",
    "    Pr[GRR(v) = v'] = \\begin{cases}\n",
    "        p = \\frac{e^{\\epsilon}}{e^{\\epsilon} + d - 1} & \\text{if } v = v' \\\\\n",
    "        q = \\frac{1}{e^{\\epsilon} + d - 1} & \\text{otherwise, i.e. } v'\\in \\mathcal{D}, v\\neq v'\n",
    "    \\end{cases}\n",
    "    $\n",
    "\n",
    "    - (Aggregation & estimate)\n",
    "    After aggregation, one can learn the count of some reported value $v$ and denoted as $C(v)$.\n",
    "    Then the unbiased frequency estimate of $v$ is $\\hat{f}(v) = \\frac{C(v) - n q}{p - q}$.\n",
    "\n",
    "    - Implement the simulation GRR for the \"Education\" attributes.\n",
    "    By simulation, it means you do NOT need to implement the real network code sending/aggregating.\n",
    "    Using only the Numpy function to simulate the randomization and computation is enough, no need to make it complicated."
   ]
  },
  {
   "cell_type": "code",
   "execution_count": 14,
   "metadata": {
    "collapsed": false,
    "pycharm": {
     "name": "#%%\n"
    }
   },
   "outputs": [
    {
     "name": "stdout",
     "output_type": "stream",
     "text": [
      "0         Bachelors\n",
      "1         Bachelors\n",
      "2           HS-grad\n",
      "3              11th\n",
      "4         Bachelors\n",
      "            ...    \n",
      "32556    Assoc-acdm\n",
      "32557       HS-grad\n",
      "32558       HS-grad\n",
      "32559       HS-grad\n",
      "32560       HS-grad\n",
      "Name: Education, Length: 30162, dtype: category\n",
      "Categories (16, object): ['10th', '11th', '12th', '1st-4th', ..., 'Masters', 'Preschool', 'Prof-school', 'Some-college']\n",
      "encoding mapping: {0: '10th', 1: '11th', 2: '12th', 3: '1st-4th', 4: '5th-6th', 5: '7th-8th', 6: '9th', 7: 'Assoc-acdm', 8: 'Assoc-voc', 9: 'Bachelors', 10: 'Doctorate', 11: 'HS-grad', 12: 'Masters', 13: 'Preschool', 14: 'Prof-school', 15: 'Some-college'}\n",
      "encoded records: [ 9  9 11 ... 11 11 11]\n",
      "true counts: (array([ 0,  1,  2,  3,  4,  5,  6,  7,  8,  9, 10, 11, 12, 13, 14, 15],\n",
      "      dtype=int8), array([ 820, 1048,  377,  151,  288,  557,  455, 1008, 1307, 5044,  375,\n",
      "       9840, 1627,   45,  542, 6678]))\n",
      "[0. 0. 0. 0. 0. 0. 0. 0. 0. 0. 0. 0. 0. 0. 0. 0.]\n"
     ]
    }
   ],
   "source": [
    "# preprocess the Education attribute\n",
    "Education_records = adult['Education'].astype(\"category\")\n",
    "print(Education_records)\n",
    "encode_mapping = dict( enumerate(Education_records.cat.categories ) )\n",
    "print(\"encoding mapping:\", encode_mapping)\n",
    "encoded_edu_records = Education_records.cat.codes.to_numpy()\n",
    "print(\"encoded records:\", encoded_edu_records)\n",
    "print(\"true counts:\", np.unique(encoded_edu_records, return_counts=True))\n",
    "\n",
    "def grr_simulation(records, epsilon):\n",
    "    d = len(encode_mapping)\n",
    "    n = len(records)\n",
    "    estimate_freq = np.zeros(d)\n",
    "    # YOUR CODE HERE (randomization part)\n",
    "\n",
    "    # YOUR CODE HERE (unbiased estimation part)\n",
    "\n",
    "    return estimate_freq\n",
    "\n",
    "\n",
    "print(grr_simulation(encoded_edu_records, 2))"
   ]
  },
  {
   "cell_type": "markdown",
   "metadata": {
    "collapsed": false,
    "pycharm": {
     "name": "#%% md\n"
    }
   },
   "source": [
    "* (10 points)\n",
    "GRR is proved far from the optimal solution when $\\epsilon$ is small or domain size $d$ is large.\n",
    "An improved LDP mechanism call Optimized Unary Encoding (OUE) has been shown outperforms GRR.\n",
    "W.L.G., we assume that the input domain is $\\mathcal{D}=\\{0, 1, 2, \\ldots, d-1\\}$.\n",
    "    - (Local randomization) Unary encoding codes the input value $v$ to a unit vector $\\mathbf{B}$ with only $\\mathbf{B}[v]=1$ and all other elements are set to 0.\n",
    "    OUE randomizes the unary encoding and outputs vector $\\mathbf{B}'$ in the following way:\n",
    "\n",
    "    $\n",
    "    Pr[\\mathbf{B}'[v] = 1] = \\begin{cases}\n",
    "        p = \\frac{1}{2} & \\text{if } \\mathbf{B}[v] = 1 \\\\\n",
    "        q = \\frac{1}{e^{\\epsilon} + 1} & \\text{if } \\mathbf{B}[v] = 0\n",
    "    \\end{cases}\n",
    "    $\n",
    "\n",
    "    - (Aggregation & estimate) The aggregate then can sum all the report vectors. The unbiased frequencies vector is estimated as\n",
    "\n",
    "    $\n",
    "        f = \\frac{\\sum_{i\\in [n]} \\mathbf{B}'_{i} - nq}{p - q}\n",
    "    $\n",
    "\n",
    "    - Implement the simulation of OUE method in the following code block."
   ]
  },
  {
   "cell_type": "code",
   "execution_count": 18,
   "metadata": {
    "collapsed": false,
    "pycharm": {
     "name": "#%%\n"
    }
   },
   "outputs": [],
   "source": [
    "def oue_simulation(records, epsilon):\n",
    "    d = len(encode_mapping)\n",
    "    n = len(records)\n",
    "    estimate_freq = np.zeros(d)\n",
    "\n",
    "    # YOUR CODE HERE (randomization part)\n",
    "\n",
    "    # YOUR CODE HERE (unbiased estimation part)\n",
    "    return None\n",
    "\n",
    "# verify whether the results is unbiased\n",
    "results = []\n",
    "for _ in range(50):\n",
    "    results.append(oue_simulation(encoded_edu_records, 1))\n",
    "# print(np.average(results, axis=0))"
   ]
  },
  {
   "cell_type": "markdown",
   "metadata": {
    "collapsed": false,
    "pycharm": {
     "name": "#%% md\n"
    }
   },
   "source": [
    "* (10 points) Compares the average L2 errors of GRR and OUE with different privacy budgets, plot the results.\n",
    "Summarize your findings."
   ]
  },
  {
   "cell_type": "code",
   "execution_count": 16,
   "metadata": {
    "collapsed": false,
    "pycharm": {
     "name": "#%%\n"
    }
   },
   "outputs": [],
   "source": [
    "epsilons = [0.5, 1.0, 1.5, 2, 2.5, 3.0, 3.5, 4.0]\n",
    "\n",
    "# YOUR CODE HERE\n",
    "\n",
    "# plt.plot(epsilons, avg_grr_errors, label='GRR' )\n",
    "# plt.plot(epsilons, avg_oue_errors, label='OUE')\n",
    "# plt.legend()\n",
    "# plt.show()"
   ]
  },
  {
   "cell_type": "markdown",
   "metadata": {
    "collapsed": false,
    "pycharm": {
     "name": "#%% md\n"
    }
   },
   "source": [
    "YOUR ANSWER HERE (Summarize your findings.)"
   ]
  },
  {
   "cell_type": "markdown",
   "metadata": {
    "collapsed": false,
    "pycharm": {
     "name": "#%% md\n"
    }
   },
   "source": [
    "* (10 points) Compares the average L2 errors LDP approaches with the histogram generated by Laplace mechanism.\n",
    "Summarize your findings and try to explain why LDP approaches have poorer utility.\n",
    "    - Hint: you can analyze the variance of the frequency estimates."
   ]
  },
  {
   "cell_type": "code",
   "execution_count": 17,
   "metadata": {
    "collapsed": false,
    "pycharm": {
     "name": "#%%\n"
    }
   },
   "outputs": [],
   "source": [
    "# YOUR CODE HERE\n",
    "# plt.plot(epsilons, avg_grr_errors, label='GRR' )\n",
    "# plt.plot(epsilons, avg_oue_errors, label='OUE')\n",
    "# plt.legend()\n",
    "# plt.show()"
   ]
  },
  {
   "cell_type": "markdown",
   "metadata": {
    "collapsed": false,
    "pycharm": {
     "name": "#%% md\n"
    }
   },
   "source": [
    "YOUR ANSWER HERE (Summarize your findings, explain why)\n"
   ]
  }
 ],
 "metadata": {
  "kernelspec": {
   "display_name": "Python 3",
   "language": "python",
   "name": "python3"
  },
  "language_info": {
   "codemirror_mode": {
    "name": "ipython",
    "version": 2
   },
   "file_extension": ".py",
   "mimetype": "text/x-python",
   "name": "python",
   "nbconvert_exporter": "python",
   "pygments_lexer": "ipython2",
   "version": "2.7.6"
  }
 },
 "nbformat": 4,
 "nbformat_minor": 0
}
